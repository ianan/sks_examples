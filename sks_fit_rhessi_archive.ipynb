{
 "cells": [
  {
   "cell_type": "code",
   "execution_count": 1,
   "metadata": {},
   "outputs": [],
   "source": [
    "#  Example using sunkit-spex with files from the RHESSI archive\n",
    "# https://hesperia.gsfc.nasa.gov/rhessi3/mission-archive/index.html\n",
    "\n",
    "# Note that these are two types of spectra/srm files:\n",
    "# Standard Energy Resolution - \n",
    "# 1). For every orbit of the RHESSI mission (midnight-to-midnight), count spectrum files \n",
    "# with 4s bins, 77 energy bins 3-250 keV, combining all functional detectors (front segment only). \n",
    "# For every flare, there are Spectral Response Matrix (SRM) files with the same energy bins \n",
    "# and the same combined detector segments as in those spectrum files.\n",
    "# \n",
    "# 2). High Energy Resolution - For the larger RHESSI flares (events seen above 50 keV), \n",
    "# count spectrum files for the orbit containing the flare (midnight-to-midnight) \n",
    "# for each separate detector (front segment only), with 4s time bins and energy bins \n",
    "# from 3 keV to 3 MeV, starting with 1/3 keV bins up to 15 keV and larger bins for \n",
    "# higher energies, but finer bins surrounding each line. A combined-detector (all functional front detectors) \n",
    "# file is also provided. The corresponding Spectral Response Matrix (SRM) files are also provided. (more info)\n",
    "# \n",
    "# Here testing with the microflare from 17-Nov-2006 about 05:13\n",
    "# From https://umbra.nascom.nasa.gov/rhessi/rhessi_extras/spectra/fits_standard/2006/11/17/hsi_spectrum_20061117_0419_0555_3_250keV_alld.fits\n",
    "# From https://umbra.nascom.nasa.gov/rhessi/rhessi_extras/spectra/fits_standard/2006/11/17/hsi_srm_20061117_0512_0516_3_250keV_alld.fits\n",
    "# \n",
    "# 23-Jan-2025 IGH"
   ]
  },
  {
   "cell_type": "code",
   "execution_count": 2,
   "metadata": {},
   "outputs": [],
   "source": [
    "from astropy.time import Time, TimeDelta\n",
    "import numpy as np\n",
    "import matplotlib\n",
    "import matplotlib.pyplot as plt\n",
    "from sunpy.io.special import read_genx\n",
    "# Note this load in is a WIP during the refactor/rename\n",
    "# works with v0.4.1.dev20\n",
    "from sunkit_spex.legacy.fitting.fitter import Fitter\n",
    "\n",
    "import warnings\n",
    "warnings.filterwarnings(\"ignore\", category=RuntimeWarning) \n",
    "warnings.filterwarnings(\"ignore\", category=np.VisibleDeprecationWarning) \n",
    "\n",
    "plt.rcParams.update({'font.size': 18,'mathtext.default':\"regular\"})"
   ]
  },
  {
   "cell_type": "code",
   "execution_count": null,
   "metadata": {},
   "outputs": [],
   "source": []
  }
 ],
 "metadata": {
  "kernelspec": {
   "display_name": "base",
   "language": "python",
   "name": "python3"
  },
  "language_info": {
   "codemirror_mode": {
    "name": "ipython",
    "version": 3
   },
   "file_extension": ".py",
   "mimetype": "text/x-python",
   "name": "python",
   "nbconvert_exporter": "python",
   "pygments_lexer": "ipython3",
   "version": "3.10.9"
  }
 },
 "nbformat": 4,
 "nbformat_minor": 2
}
